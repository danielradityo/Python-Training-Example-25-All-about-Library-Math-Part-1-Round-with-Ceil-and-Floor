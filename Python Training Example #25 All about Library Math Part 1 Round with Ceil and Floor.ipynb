{
 "cells": [
  {
   "cell_type": "markdown",
   "metadata": {},
   "source": [
    "# Python Training Example #25 All about Library Math Part 1 Round with Ceil and Floor"
   ]
  },
  {
   "cell_type": "markdown",
   "metadata": {},
   "source": [
    "## How import math to your code"
   ]
  },
  {
   "cell_type": "code",
   "execution_count": 1,
   "metadata": {},
   "outputs": [],
   "source": [
    "# Math is a library for use mathematics command\n",
    "import math"
   ]
  },
  {
   "cell_type": "markdown",
   "metadata": {},
   "source": [
    "## Crate Variable"
   ]
  },
  {
   "cell_type": "code",
   "execution_count": 4,
   "metadata": {},
   "outputs": [],
   "source": [
    "a = 3.86\n",
    "b = 6.14"
   ]
  },
  {
   "cell_type": "markdown",
   "metadata": {},
   "source": [
    "## Round command"
   ]
  },
  {
   "cell_type": "code",
   "execution_count": 8,
   "metadata": {},
   "outputs": [
    {
     "name": "stdout",
     "output_type": "stream",
     "text": [
      "Round upper a =  4\n",
      "Round upper b =  7\n"
     ]
    }
   ],
   "source": [
    "# .ceil() use for round a number to upper level\n",
    "a_ceil = math.ceil(a)\n",
    "b_ceil = math.ceil(b)\n",
    "print('Round upper a = ', a_ceil)\n",
    "print('Round upper b = ',b_ceil)"
   ]
  },
  {
   "cell_type": "code",
   "execution_count": 9,
   "metadata": {},
   "outputs": [
    {
     "name": "stdout",
     "output_type": "stream",
     "text": [
      "Round floor a =  3\n",
      "Round floor b =  6\n"
     ]
    }
   ],
   "source": [
    "# .floor() use for round a number to lower level\n",
    "a_floor = math.floor(a)\n",
    "b_floor = math.floor(b)\n",
    "print('Round floor a = ', a_floor)\n",
    "print('Round floor b = ',b_floor)"
   ]
  }
 ],
 "metadata": {
  "kernelspec": {
   "display_name": "Python 3",
   "language": "python",
   "name": "python3"
  },
  "language_info": {
   "codemirror_mode": {
    "name": "ipython",
    "version": 3
   },
   "file_extension": ".py",
   "mimetype": "text/x-python",
   "name": "python",
   "nbconvert_exporter": "python",
   "pygments_lexer": "ipython3",
   "version": "3.8.5"
  }
 },
 "nbformat": 4,
 "nbformat_minor": 4
}
